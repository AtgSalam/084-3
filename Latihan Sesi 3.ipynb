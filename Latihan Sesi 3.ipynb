{
 "cells": [
  {
   "cell_type": "code",
   "execution_count": 19,
   "id": "48fd1be6",
   "metadata": {},
   "outputs": [
    {
     "name": "stdout",
     "output_type": "stream",
     "text": [
      " 3 Tergolong Bilangan GANJIL\n"
     ]
    }
   ],
   "source": [
    "# Soal No.1 \n",
    "\n",
    "Bilangan = int(input(\"Masukan Angka : \"))\n",
    "\n",
    "if Bilangan % 2 == 0:\n",
    "    print(' %d Tergolong Bilangan GENAP' % Bilangan)\n",
    "else:\n",
    "    print(' %d Tergolong Bilangan GANJIL' % Bilangan)"
   ]
  },
  {
   "cell_type": "code",
   "execution_count": 16,
   "id": "c949d855",
   "metadata": {},
   "outputs": [
    {
     "name": "stdout",
     "output_type": "stream",
     "text": [
      "MENU MENGHITUNG RUMUS LUAS SEGITIGA DAN PERSEGI\n",
      "Masukan Tinggi Segitiga : 3\n",
      "Masukan Alas Segitiga: 5\n",
      "Luas Segitiga tersebut adalah : 7.5\n"
     ]
    }
   ],
   "source": [
    "#Soal No.2\n",
    "\n",
    "print('MENU MENGHITUNG RUMUS LUAS SEGITIGA DAN PERSEGI')\n",
    "\n",
    "panjang = float(input('Masukan Tinggi Segitiga : '))\n",
    "lebar = float(input('Masukan Alas Segitiga: '))\n",
    "\n",
    "luas = 0.5*panjang*lebar\n",
    "\n",
    "print(\"Luas Segitiga tersebut adalah :\",luas) # kurang lengkap"
   ]
  },
  {
   "cell_type": "code",
   "execution_count": 17,
   "id": "d55a9857",
   "metadata": {},
   "outputs": [
    {
     "name": "stdout",
     "output_type": "stream",
     "text": [
      "MENU MENGHITUNG RUMUS LUAS SEGITIGA DAN PERSEGI\n",
      "Masukkan Angka 1 Untuk Menghitung Luas Segitiga\n",
      "Masukkan Angka 2 Untuk Menghitung Luas Persegi\n",
      "Pilihan Menu Yang Diinginkan: 1\n",
      "Masukan Tinggi Segitiga : 12\n",
      "Masukan Alas Segitiga: 5\n",
      "Luas Segitiga tersebut adalah : 30.0\n"
     ]
    }
   ],
   "source": [
    "#Soal No. 2\n",
    "\n",
    "print('MENU MENGHITUNG RUMUS LUAS SEGITIGA DAN PERSEGI')\n",
    "print('Masukkan Angka 1 Untuk Menghitung Luas Segitiga')\n",
    "print('Masukkan Angka 2 Untuk Menghitung Luas Persegi')\n",
    "Pilihan = int(input('Pilihan Menu Yang Diinginkan: '))\n",
    "\n",
    "if Pilihan==1:\n",
    "    panjang = float(input('Masukan Tinggi Segitiga : '))\n",
    "    lebar = float(input('Masukan Alas Segitiga: '))\n",
    "    luas = 0.5*panjang*lebar\n",
    "    print(\"Luas Segitiga tersebut adalah :\",luas)\n",
    "else:\n",
    "    panjang = float(input('Masukan Panjang Persegi : '))\n",
    "    lebar = float(input('Masukan Lebar Persegi: '))\n",
    "    luas = panjang*lebar\n",
    "    print(\"Luas Persegi tersebut adalah :\",luas)"
   ]
  },
  {
   "cell_type": "code",
   "execution_count": 20,
   "id": "c7e2f80e",
   "metadata": {},
   "outputs": [
    {
     "name": "stdout",
     "output_type": "stream",
     "text": [
      "Masukkan Jumlah Hari: 367\n",
      "367 hari = 1 Tahun 0 bulan 0 minggu 2 hari\n"
     ]
    }
   ],
   "source": [
    "# Soal No. 3\n",
    "\n",
    "jumlah_hari = int(input(\"Masukkan Jumlah Hari: \"))\n",
    "tahun = round(jumlah_hari/365)\n",
    "bulan = round((jumlah_hari - (tahun*365))/30)\n",
    "minggu = round ((jumlah_hari - (tahun *365)-(30*bulan))/7)\n",
    "hari = round(jumlah_hari - (minggu*7)-(tahun *365)-(30*bulan))\n",
    "print(jumlah_hari,\"hari\",\"=\",tahun,\"Tahun\",bulan,\"bulan\",minggu,\"minggu\",hari,\"hari\")\n"
   ]
  },
  {
   "cell_type": "code",
   "execution_count": null,
   "id": "027409e3",
   "metadata": {},
   "outputs": [],
   "source": []
  }
 ],
 "metadata": {
  "kernelspec": {
   "display_name": "Python 3",
   "language": "python",
   "name": "python3"
  },
  "language_info": {
   "codemirror_mode": {
    "name": "ipython",
    "version": 3
   },
   "file_extension": ".py",
   "mimetype": "text/x-python",
   "name": "python",
   "nbconvert_exporter": "python",
   "pygments_lexer": "ipython3",
   "version": "3.8.8"
  }
 },
 "nbformat": 4,
 "nbformat_minor": 5
}
